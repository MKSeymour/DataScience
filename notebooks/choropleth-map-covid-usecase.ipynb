{
  "nbformat": 4,
  "nbformat_minor": 0,
  "metadata": {
    "colab": {
      "name": "Choropleth-Plotly-Covid.ipynb",
      "provenance": [],
      "toc_visible": true
    },
    "kernelspec": {
      "name": "python3",
      "display_name": "Python 3"
    }
  },
  "cells": [
    {
      "cell_type": "markdown",
      "metadata": {
        "id": "5F4k1lSnUIut",
        "colab_type": "text"
      },
      "source": [
        "## 1. Get the data"
      ]
    },
    {
      "cell_type": "code",
      "metadata": {
        "id": "eN5VMTWxA8Jt",
        "colab_type": "code",
        "colab": {}
      },
      "source": [
        "# Requirements\n",
        "!pip install pycountry-convert\n",
        "!pip install chart-studio"
      ],
      "execution_count": 0,
      "outputs": []
    },
    {
      "cell_type": "code",
      "metadata": {
        "id": "y0AIlFkHBBSP",
        "colab_type": "code",
        "colab": {}
      },
      "source": [
        "# import des librairies \n",
        "import requests\n",
        "import pandas as pd\n",
        "\n",
        "import pycountry \n",
        "import plotly.express as px\n",
        "\n",
        "import numpy as np\n",
        "import re\n",
        "from datetime import datetime"
      ],
      "execution_count": 0,
      "outputs": []
    },
    {
      "cell_type": "code",
      "metadata": {
        "id": "ORNSJa-BBB7T",
        "colab_type": "code",
        "colab": {}
      },
      "source": [
        "# import data (world but USA)\n",
        "\n",
        "url = 'https://raw.githubusercontent.com/CSSEGISandData/COVID-19/master/csse_covid_19_data/csse_covid_19_time_series/time_series_covid19_confirmed_global.csv'"
      ],
      "execution_count": 0,
      "outputs": []
    },
    {
      "cell_type": "markdown",
      "metadata": {
        "id": "E53tv9ZyBP6g",
        "colab_type": "text"
      },
      "source": [
        "## 2. Data Prep and cleaning"
      ]
    },
    {
      "cell_type": "code",
      "metadata": {
        "id": "avy-bJGdCGwk",
        "colab_type": "code",
        "colab": {}
      },
      "source": [
        "def prep_from_url(url) :\n",
        "    df = pd.DataFrame()\n",
        "    df = pd.read_csv(url, error_bad_lines=False)\n",
        "    df['Province/State'] = df['Province/State'].apply(lambda x : \"\" if x  else str(x))\n",
        "    \n",
        "    # --- format the date as %Y/%m/%d\n",
        "    df.columns = [re.sub('/20$','/2020',col) for col in df.columns]\n",
        "    df.columns = [datetime.strptime(col, '%m/%d/%Y').strftime('%Y/%m/%d')\n",
        "                  if col.endswith('2020') else col.strip()\n",
        "                 for col in df.columns]\n",
        "\n",
        "    # --- new dataset only with the count for the end of each month\n",
        "    df['january-20'] = df['2020/01/31']\n",
        "    df['february-20'] = df['2020/02/29']\n",
        "    df['march-20'] = df ['2020/03/31']\n",
        "    df['april-20'] = df['2020/04/30']\n",
        "    df['may-20'] = df['2020/05/29']\n",
        "\n",
        "    df = df.drop([col for col in df.columns if col.startswith('2020')],axis = 1)\n",
        "    \n",
        "    return df \n"
      ],
      "execution_count": 0,
      "outputs": []
    },
    {
      "cell_type": "code",
      "metadata": {
        "id": "NJoQWhxh79FN",
        "colab_type": "code",
        "colab": {
          "base_uri": "https://localhost:8080/",
          "height": 195
        },
        "outputId": "febd8c2f-5106-49b0-c2a4-4b1be620f3b2"
      },
      "source": [
        "data = prep_from_url(url)\n",
        "data.head()"
      ],
      "execution_count": 4,
      "outputs": [
        {
          "output_type": "execute_result",
          "data": {
            "text/html": [
              "<div>\n",
              "<style scoped>\n",
              "    .dataframe tbody tr th:only-of-type {\n",
              "        vertical-align: middle;\n",
              "    }\n",
              "\n",
              "    .dataframe tbody tr th {\n",
              "        vertical-align: top;\n",
              "    }\n",
              "\n",
              "    .dataframe thead th {\n",
              "        text-align: right;\n",
              "    }\n",
              "</style>\n",
              "<table border=\"1\" class=\"dataframe\">\n",
              "  <thead>\n",
              "    <tr style=\"text-align: right;\">\n",
              "      <th></th>\n",
              "      <th>Province/State</th>\n",
              "      <th>Country/Region</th>\n",
              "      <th>Lat</th>\n",
              "      <th>Long</th>\n",
              "      <th>january-20</th>\n",
              "      <th>february-20</th>\n",
              "      <th>march-20</th>\n",
              "      <th>april-20</th>\n",
              "      <th>may-20</th>\n",
              "    </tr>\n",
              "  </thead>\n",
              "  <tbody>\n",
              "    <tr>\n",
              "      <th>0</th>\n",
              "      <td></td>\n",
              "      <td>Afghanistan</td>\n",
              "      <td>33.0000</td>\n",
              "      <td>65.0000</td>\n",
              "      <td>0</td>\n",
              "      <td>1</td>\n",
              "      <td>174</td>\n",
              "      <td>2171</td>\n",
              "      <td>13659</td>\n",
              "    </tr>\n",
              "    <tr>\n",
              "      <th>1</th>\n",
              "      <td></td>\n",
              "      <td>Albania</td>\n",
              "      <td>41.1533</td>\n",
              "      <td>20.1683</td>\n",
              "      <td>0</td>\n",
              "      <td>0</td>\n",
              "      <td>243</td>\n",
              "      <td>773</td>\n",
              "      <td>1099</td>\n",
              "    </tr>\n",
              "    <tr>\n",
              "      <th>2</th>\n",
              "      <td></td>\n",
              "      <td>Algeria</td>\n",
              "      <td>28.0339</td>\n",
              "      <td>1.6596</td>\n",
              "      <td>0</td>\n",
              "      <td>1</td>\n",
              "      <td>716</td>\n",
              "      <td>4006</td>\n",
              "      <td>9134</td>\n",
              "    </tr>\n",
              "    <tr>\n",
              "      <th>3</th>\n",
              "      <td></td>\n",
              "      <td>Andorra</td>\n",
              "      <td>42.5063</td>\n",
              "      <td>1.5218</td>\n",
              "      <td>0</td>\n",
              "      <td>0</td>\n",
              "      <td>376</td>\n",
              "      <td>745</td>\n",
              "      <td>764</td>\n",
              "    </tr>\n",
              "    <tr>\n",
              "      <th>4</th>\n",
              "      <td></td>\n",
              "      <td>Angola</td>\n",
              "      <td>-11.2027</td>\n",
              "      <td>17.8739</td>\n",
              "      <td>0</td>\n",
              "      <td>0</td>\n",
              "      <td>7</td>\n",
              "      <td>27</td>\n",
              "      <td>81</td>\n",
              "    </tr>\n",
              "  </tbody>\n",
              "</table>\n",
              "</div>"
            ],
            "text/plain": [
              "  Province/State Country/Region      Lat  ...  march-20  april-20  may-20\n",
              "0                   Afghanistan  33.0000  ...       174      2171   13659\n",
              "1                       Albania  41.1533  ...       243       773    1099\n",
              "2                       Algeria  28.0339  ...       716      4006    9134\n",
              "3                       Andorra  42.5063  ...       376       745     764\n",
              "4                        Angola -11.2027  ...         7        27      81\n",
              "\n",
              "[5 rows x 9 columns]"
            ]
          },
          "metadata": {
            "tags": []
          },
          "execution_count": 4
        }
      ]
    },
    {
      "cell_type": "code",
      "metadata": {
        "id": "eftvMWw8CoRf",
        "colab_type": "code",
        "colab": {}
      },
      "source": [
        "## ---- Code ISO des pays \n",
        "def get_alpha (name, alpha) :\n",
        "  try :\n",
        "    if alpha == 2 :\n",
        "      return  pycountry.countries.get(name = name).alpha_2\n",
        "    if alpha == 3 :\n",
        "      return pycountry.countries.get(name = name).alpha_3\n",
        "  except :\n",
        "    return None\n",
        "\n",
        "data['country_iso3'] = data['Country/Region'].apply(lambda x : get_alpha(x, 3) )"
      ],
      "execution_count": 0,
      "outputs": []
    },
    {
      "cell_type": "code",
      "metadata": {
        "id": "Bbn8BIGqHV9t",
        "colab_type": "code",
        "colab": {
          "base_uri": "https://localhost:8080/",
          "height": 195
        },
        "outputId": "b209a5eb-2eb0-405b-e21a-75ba24303bc9"
      },
      "source": [
        "data = data.groupby([ 'Country/Region','country_iso3', ]).aggregate('sum').drop(['Lat', 'Long'], axis =1).reset_index()\n",
        "data.head()"
      ],
      "execution_count": 6,
      "outputs": [
        {
          "output_type": "execute_result",
          "data": {
            "text/html": [
              "<div>\n",
              "<style scoped>\n",
              "    .dataframe tbody tr th:only-of-type {\n",
              "        vertical-align: middle;\n",
              "    }\n",
              "\n",
              "    .dataframe tbody tr th {\n",
              "        vertical-align: top;\n",
              "    }\n",
              "\n",
              "    .dataframe thead th {\n",
              "        text-align: right;\n",
              "    }\n",
              "</style>\n",
              "<table border=\"1\" class=\"dataframe\">\n",
              "  <thead>\n",
              "    <tr style=\"text-align: right;\">\n",
              "      <th></th>\n",
              "      <th>Country/Region</th>\n",
              "      <th>country_iso3</th>\n",
              "      <th>january-20</th>\n",
              "      <th>february-20</th>\n",
              "      <th>march-20</th>\n",
              "      <th>april-20</th>\n",
              "      <th>may-20</th>\n",
              "    </tr>\n",
              "  </thead>\n",
              "  <tbody>\n",
              "    <tr>\n",
              "      <th>0</th>\n",
              "      <td>Afghanistan</td>\n",
              "      <td>AFG</td>\n",
              "      <td>0</td>\n",
              "      <td>1</td>\n",
              "      <td>174</td>\n",
              "      <td>2171</td>\n",
              "      <td>13659</td>\n",
              "    </tr>\n",
              "    <tr>\n",
              "      <th>1</th>\n",
              "      <td>Albania</td>\n",
              "      <td>ALB</td>\n",
              "      <td>0</td>\n",
              "      <td>0</td>\n",
              "      <td>243</td>\n",
              "      <td>773</td>\n",
              "      <td>1099</td>\n",
              "    </tr>\n",
              "    <tr>\n",
              "      <th>2</th>\n",
              "      <td>Algeria</td>\n",
              "      <td>DZA</td>\n",
              "      <td>0</td>\n",
              "      <td>1</td>\n",
              "      <td>716</td>\n",
              "      <td>4006</td>\n",
              "      <td>9134</td>\n",
              "    </tr>\n",
              "    <tr>\n",
              "      <th>3</th>\n",
              "      <td>Andorra</td>\n",
              "      <td>AND</td>\n",
              "      <td>0</td>\n",
              "      <td>0</td>\n",
              "      <td>376</td>\n",
              "      <td>745</td>\n",
              "      <td>764</td>\n",
              "    </tr>\n",
              "    <tr>\n",
              "      <th>4</th>\n",
              "      <td>Angola</td>\n",
              "      <td>AGO</td>\n",
              "      <td>0</td>\n",
              "      <td>0</td>\n",
              "      <td>7</td>\n",
              "      <td>27</td>\n",
              "      <td>81</td>\n",
              "    </tr>\n",
              "  </tbody>\n",
              "</table>\n",
              "</div>"
            ],
            "text/plain": [
              "  Country/Region country_iso3  january-20  ...  march-20  april-20  may-20\n",
              "0    Afghanistan          AFG           0  ...       174      2171   13659\n",
              "1        Albania          ALB           0  ...       243       773    1099\n",
              "2        Algeria          DZA           0  ...       716      4006    9134\n",
              "3        Andorra          AND           0  ...       376       745     764\n",
              "4         Angola          AGO           0  ...         7        27      81\n",
              "\n",
              "[5 rows x 7 columns]"
            ]
          },
          "metadata": {
            "tags": []
          },
          "execution_count": 6
        }
      ]
    },
    {
      "cell_type": "markdown",
      "metadata": {
        "id": "gbKCIiuVUl0v",
        "colab_type": "text"
      },
      "source": [
        "## 3. Plot the data"
      ]
    },
    {
      "cell_type": "code",
      "metadata": {
        "id": "ZxQpm2Y6DpDM",
        "colab_type": "code",
        "colab": {}
      },
      "source": [
        "from chart_studio.plotly import image as PlotlyImage\n",
        "from PIL import Image as PILImage\n",
        "import io\n",
        "import chart_studio\n",
        "import plotly.express as px\n",
        "\n",
        "\n",
        "months = ['january-20',\t'february-20',\t'march-20',\t'april-20',\t'may-20']"
      ],
      "execution_count": 0,
      "outputs": []
    },
    {
      "cell_type": "code",
      "metadata": {
        "id": "--UjY18JHWHq",
        "colab_type": "code",
        "colab": {}
      },
      "source": [
        "def covid_plot (dataset, month):\n",
        "  fig = px.choropleth(dataset, locations=\"country_iso3\",\n",
        "                        color=month, # set the choropleth data to plot\n",
        "                        hover_name='Country/Region', # column to add to hover information\n",
        "                        hover_data = ['Country/Region', month], # data to be displayed when mousing over the map\n",
        "                        range_color = [0,100000],\n",
        "                        color_continuous_scale=px.colors.sequential.Plasma\n",
        "                      )\n",
        "    # add a title \n",
        "  name = str('Confirmed case - '+ str(month))\n",
        "  fig.update_layout(\n",
        "    title = {\n",
        "        'text' : name,\n",
        "        'y':0.2,\n",
        "        'x':0.5,\n",
        "        'xanchor': 'center',\n",
        "        'yanchor': 'top'}\n",
        "    )\n",
        "\n",
        "  # set your chart_studio username nd api\n",
        "  # how to -> https://plotly.com/python/getting-started-with-chart-studio/\n",
        "  chart_studio.tools.set_credentials_file(username='Mellie971', api_key='xKmXP9ZwQaHDPaVANzce')\n",
        "\n",
        "  img_bytes = PlotlyImage.get(fig)\n",
        "  image = PILImage.open(io.BytesIO(img_bytes))\n",
        "  image.save(\"/content/images/\"+month+\".png\")\n",
        "\n",
        "  return image"
      ],
      "execution_count": 0,
      "outputs": []
    },
    {
      "cell_type": "code",
      "metadata": {
        "id": "3OOy7Pz8PDMO",
        "colab_type": "code",
        "colab": {}
      },
      "source": [
        "images = []\n",
        "# looping over the images and saving them into a list\n",
        "for month in months :\n",
        "  images.append(covid_plot( data, month))\n",
        "\n",
        "# creating the GIF\n",
        "images[0].save('/content/images/covid19-case.gif',\n",
        "               save_all=True, append_images=images[1:], optimize=True, duration=800, loop=0)"
      ],
      "execution_count": 0,
      "outputs": []
    },
    {
      "cell_type": "code",
      "metadata": {
        "id": "teoPgaobiV9s",
        "colab_type": "code",
        "colab": {}
      },
      "source": [
        ""
      ],
      "execution_count": 0,
      "outputs": []
    },
    {
      "cell_type": "code",
      "metadata": {
        "id": "wdHTSPQqifRe",
        "colab_type": "code",
        "colab": {}
      },
      "source": [
        ""
      ],
      "execution_count": 0,
      "outputs": []
    }
  ]
}
